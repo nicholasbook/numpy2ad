{
 "cells": [
  {
   "attachments": {},
   "cell_type": "markdown",
   "metadata": {},
   "source": [
    "## Testing Adjoint Code Generation"
   ]
  },
  {
   "cell_type": "code",
   "execution_count": null,
   "metadata": {},
   "outputs": [],
   "source": [
    "import ast\n",
    "import inspect\n",
    "import ad_transformer\n",
    "from draw_ast import *\n",
    "import simple_expressions\n",
    "import importlib\n",
    "\n",
    "importlib.reload(ad_transformer)\n",
    "importlib.reload(simple_expressions)\n",
    "from ad_transformer import *\n",
    "from simple_expressions import *"
   ]
  },
  {
   "cell_type": "code",
   "execution_count": null,
   "metadata": {},
   "outputs": [],
   "source": [
    "transformer = AdjointNodeTransformer()\n",
    "tree = ast.parse(inspect.getsource(simple_exp))\n",
    "newAST = transformer.visit(tree) "
   ]
  },
  {
   "cell_type": "code",
   "execution_count": null,
   "metadata": {},
   "outputs": [],
   "source": [
    "print(ast.dump(newAST, indent=4))"
   ]
  },
  {
   "cell_type": "code",
   "execution_count": null,
   "metadata": {},
   "outputs": [],
   "source": [
    "newAST = ast.fix_missing_locations(newAST)\n",
    "print(ast.unparse(newAST))"
   ]
  },
  {
   "cell_type": "code",
   "execution_count": null,
   "metadata": {},
   "outputs": [],
   "source": [
    "import numpy as np\n",
    "A = 1.5 * np.ones((2,2))\n",
    "B = 2.5 * np.ones((2,2))\n",
    "C = 3.5 * np.ones((2,2))\n",
    "A_a = np.zeros((2,2))\n",
    "B_a = np.zeros((2,2))\n",
    "C_a = np.zeros((2,2))\n",
    "\n",
    "exec(compile(newAST, filename=\"<ast>\", mode=\"exec\", optimize=1)) # compile and execute to make it accessible\n",
    "\n",
    "result, dfdA, dfdB, dfdC = simple_exp_ad(A, B, C, A_a, B_a, C_a)\n",
    "print(\"primal result:\\n {r}\\n df/dA:\\n {a}\\n df/dB:\\n {b}\\n df/dC:\\n {c}\".format(r=result, a=dfdA, b=dfdB, c=dfdC))"
   ]
  },
  {
   "cell_type": "code",
   "execution_count": null,
   "metadata": {},
   "outputs": [],
   "source": [
    "transformer2 = AdjointNodeTransformer()\n",
    "tree2 = ast.parse(inspect.getsource(multiline_BinOps))\n",
    "newAST2 = transformer2.visit(tree2)\n",
    "newAST2 = ast.fix_missing_locations(newAST2)\n",
    "print(ast.unparse(newAST2))"
   ]
  },
  {
   "cell_type": "code",
   "execution_count": null,
   "metadata": {},
   "outputs": [],
   "source": [
    "A = np.ones((2,2))\n",
    "B = np.ones((2,2))\n",
    "C = -1.0 * np.ones((2,2))\n",
    "A_a = np.zeros((2,2))\n",
    "B_a = np.zeros((2,2))\n",
    "C_a = np.zeros((2,2))\n",
    "exec(compile(newAST2, filename=\"<ast>\", mode=\"exec\"))\n",
    "multiline_BinOps_ad(A, B, C, A_a, B_a, C_a)"
   ]
  }
 ],
 "metadata": {
  "kernelspec": {
   "display_name": "Python 3",
   "language": "python",
   "name": "python3"
  },
  "language_info": {
   "codemirror_mode": {
    "name": "ipython",
    "version": 3
   },
   "file_extension": ".py",
   "mimetype": "text/x-python",
   "name": "python",
   "nbconvert_exporter": "python",
   "pygments_lexer": "ipython3",
   "version": "3.11.1"
  },
  "orig_nbformat": 4,
  "vscode": {
   "interpreter": {
    "hash": "1111b8f0f694f9fa633593df8f04da17d1071c821a540c35fc94e5a345be1181"
   }
  }
 },
 "nbformat": 4,
 "nbformat_minor": 2
}
