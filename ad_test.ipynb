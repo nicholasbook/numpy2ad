{
 "cells": [
  {
   "attachments": {},
   "cell_type": "markdown",
   "metadata": {},
   "source": [
    "## Testing Adjoint Code Generation"
   ]
  },
  {
   "cell_type": "code",
   "execution_count": null,
   "metadata": {},
   "outputs": [],
   "source": [
    "import ast\n",
    "import inspect\n",
    "import ad_transformer\n",
    "from draw_ast import *\n",
    "import simple_expressions\n",
    "import importlib\n",
    "\n",
    "importlib.reload(ad_transformer)\n",
    "importlib.reload(simple_expressions)\n",
    "from ad_transformer import *\n",
    "from simple_expressions import *"
   ]
  },
  {
   "cell_type": "code",
   "execution_count": null,
   "metadata": {},
   "outputs": [],
   "source": [
    "transformer = AdjointNodeTransformer()\n",
    "tree = ast.parse(inspect.getsource(simple_exp))\n",
    "newAST = transformer.visit(tree) "
   ]
  },
  {
   "cell_type": "code",
   "execution_count": null,
   "metadata": {},
   "outputs": [],
   "source": [
    "print(ast.dump(newAST, indent=4))"
   ]
  },
  {
   "cell_type": "code",
   "execution_count": null,
   "metadata": {},
   "outputs": [],
   "source": [
    "ast.fix_missing_locations(newAST)\n",
    "print(ast.unparse(newAST))"
   ]
  }
 ],
 "metadata": {
  "kernelspec": {
   "display_name": "Python 3",
   "language": "python",
   "name": "python3"
  },
  "language_info": {
   "codemirror_mode": {
    "name": "ipython",
    "version": 3
   },
   "file_extension": ".py",
   "mimetype": "text/x-python",
   "name": "python",
   "nbconvert_exporter": "python",
   "pygments_lexer": "ipython3",
   "version": "3.11.1"
  },
  "orig_nbformat": 4,
  "vscode": {
   "interpreter": {
    "hash": "1111b8f0f694f9fa633593df8f04da17d1071c821a540c35fc94e5a345be1181"
   }
  }
 },
 "nbformat": 4,
 "nbformat_minor": 2
}
