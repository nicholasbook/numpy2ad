{
 "cells": [
  {
   "attachments": {},
   "cell_type": "markdown",
   "metadata": {},
   "source": [
    "## Testing Adjoint Code Generation"
   ]
  },
  {
   "cell_type": "code",
   "execution_count": null,
   "metadata": {},
   "outputs": [],
   "source": [
    "import ast\n",
    "import inspect\n",
    "import ad_transformer\n",
    "import expr_transformer\n",
    "from draw_ast import *\n",
    "import simple_expressions\n",
    "import importlib\n",
    "\n",
    "importlib.reload(ad_transformer)\n",
    "importlib.reload(expr_transformer)\n",
    "importlib.reload(simple_expressions)\n",
    "from ad_transformer import *\n",
    "from expr_transformer import *\n",
    "from simple_expressions import *"
   ]
  },
  {
   "cell_type": "code",
   "execution_count": null,
   "metadata": {},
   "outputs": [],
   "source": [
    "# 1) Matrix-matrix fma\n",
    "expr = \"Y = A @ X + C\"\n",
    "ad_expr = transform_expr(expr)\n",
    "print(ad_expr)"
   ]
  },
  {
   "cell_type": "code",
   "execution_count": null,
   "metadata": {},
   "outputs": [],
   "source": [
    "# 2) Sum of Squared Residuals\n",
    "expr2 = \"R = (y - X @ b).T @ (y - X @ b)\"\n",
    "print(transform_expr(expr2))"
   ]
  },
  {
   "cell_type": "code",
   "execution_count": null,
   "metadata": {},
   "outputs": [],
   "source": [
    "# 3) Generalized Least Squares\n",
    "expr3 = \"b = numpy.linalg.inv(X.T @ numpy.linalg.inv(M) @ X) @ X.T @ numpy.linalg.inv(M) @ y\"\n",
    "print(transform_expr(expr3))"
   ]
  },
  {
   "cell_type": "code",
   "execution_count": null,
   "metadata": {},
   "outputs": [],
   "source": [
    "import numpy\n",
    "X = numpy.eye(3)\n",
    "X_a = numpy.zeros((3,3))\n",
    "y = np.ones((3,)) # column vec\n",
    "y_a = np.zeros((3,))\n",
    "b_a = numpy.array([0, 1, 0])\n",
    "\n",
    "v0 = X.T\n",
    "v1 = v0 @ X\n",
    "v2 = numpy.linalg.inv(v1)\n",
    "v3 = X.T\n",
    "v4 = v2 @ v3\n",
    "b = v4 @ y\n",
    "v0_a = X_a.T\n",
    "v1_a = numpy.zeros(v1.shape)\n",
    "v2_a = numpy.zeros(v2.shape)\n",
    "v3_a = X_a.T\n",
    "v4_a = numpy.zeros(v4.shape)\n",
    "y_a += v4.T @ b_a\n",
    "v4_a += b_a @ y.T\n",
    "v3_a += v2.T @ v4_a\n",
    "v2_a += v4_a @ v3.T\n",
    "v1_a -= numpy.linalg.inv(v1).T @ (v2_a @ numpy.linalg.inv(v1).T)\n",
    "X_a += v0.T @ v1_a\n",
    "v0_a += v1_a @ X.T\n",
    "\n",
    "X_a"
   ]
  },
  {
   "cell_type": "code",
   "execution_count": null,
   "metadata": {},
   "outputs": [],
   "source": [
    "# 2nd example: matrix form of quadratic\n",
    "expr3 = \"y = x.T @ A @ x + b.T @ x - c\"\n",
    "print(transform_expr(expr3))"
   ]
  },
  {
   "cell_type": "code",
   "execution_count": null,
   "metadata": {},
   "outputs": [],
   "source": [
    "transformer = AdjointNodeTransformer()\n",
    "tree = ast.parse(inspect.getsource(simple_exp))\n",
    "newAST = transformer.visit(tree) "
   ]
  },
  {
   "cell_type": "code",
   "execution_count": null,
   "metadata": {},
   "outputs": [],
   "source": [
    "print(ast.dump(newAST, indent=4))"
   ]
  },
  {
   "cell_type": "code",
   "execution_count": null,
   "metadata": {},
   "outputs": [],
   "source": [
    "newAST = ast.fix_missing_locations(newAST)\n",
    "print(ast.unparse(newAST))"
   ]
  },
  {
   "cell_type": "code",
   "execution_count": null,
   "metadata": {},
   "outputs": [],
   "source": [
    "import numpy as np\n",
    "A = 1.5 * np.ones((2,2))\n",
    "B = 2.5 * np.ones((2,2))\n",
    "C = 3.5 * np.ones((2,2))\n",
    "A_a = np.zeros((2,2))\n",
    "B_a = np.zeros((2,2))\n",
    "C_a = np.zeros((2,2))\n",
    "\n",
    "exec(compile(newAST, filename=\"<ast>\", mode=\"exec\", optimize=1)) # compile and execute to make it accessible\n",
    "\n",
    "result, dfdA, dfdB, dfdC = simple_exp_ad(A, B, C, A_a, B_a, C_a)\n",
    "print(\"primal result:\\n {r}\\n df/dA:\\n {a}\\n df/dB:\\n {b}\\n df/dC:\\n {c}\".format(r=result, a=dfdA, b=dfdB, c=dfdC))"
   ]
  },
  {
   "cell_type": "code",
   "execution_count": null,
   "metadata": {},
   "outputs": [],
   "source": [
    "# transformer2 = AdjointNodeTransformer()\n",
    "# tree2 = ast.parse(inspect.getsource(multiline_BinOps))\n",
    "# newAST2 = transformer2.visit(tree2)\n",
    "# newAST2 = ast.fix_missing_locations(newAST2)\n",
    "# print(ast.unparse(newAST2))"
   ]
  },
  {
   "cell_type": "code",
   "execution_count": null,
   "metadata": {},
   "outputs": [],
   "source": [
    "# A = np.ones((2,2))\n",
    "# B = np.ones((2,2))\n",
    "# C = -1.0 * np.ones((2,2))\n",
    "# A_a = np.zeros((2,2))\n",
    "# B_a = np.zeros((2,2))\n",
    "# C_a = np.zeros((2,2))\n",
    "# exec(compile(newAST2, filename=\"<ast>\", mode=\"exec\"))\n",
    "# multiline_BinOps_ad(A, B, C, A_a, B_a, C_a)"
   ]
  },
  {
   "cell_type": "code",
   "execution_count": null,
   "metadata": {},
   "outputs": [],
   "source": [
    "new_test = transform(quadratic)\n",
    "# transformer3 = AdjointNodeTransformer()\n",
    "# test_src = ast.parse(getsource(test))\n",
    "# new_test = transformer3.visit(test_src)\n",
    "# print(ast.dump(new_test, indent=3))\n",
    "print(new_test)"
   ]
  },
  {
   "cell_type": "code",
   "execution_count": null,
   "metadata": {},
   "outputs": [],
   "source": [
    "# print(ast.dump(ast.parse(transform(simple_exp)), indent=4))"
   ]
  },
  {
   "cell_type": "code",
   "execution_count": null,
   "metadata": {},
   "outputs": [],
   "source": [
    "def quadratic_ad(A, x, b, A_a, x_a, b_a):\n",
    "    v0 = A\n",
    "    v1 = x\n",
    "    v2 = b\n",
    "    v3 = numpy.transpose(v1)\n",
    "    v4 = v3 @ v0\n",
    "    v5 = v4 @ v1\n",
    "    v6 = numpy.transpose(v1)\n",
    "    v7 = v6 @ v2\n",
    "    v8 = v5 - v7\n",
    "    v0_a = A_a\n",
    "    v1_a = x_a\n",
    "    v2_a = b_a\n",
    "    v3_a = numpy.zeros(v3.shape)\n",
    "    v4_a = numpy.zeros(v4.shape)\n",
    "    v5_a = numpy.zeros(v5.shape)\n",
    "    v6_a = numpy.zeros(v6.shape)\n",
    "    v7_a = numpy.zeros(v7.shape)\n",
    "    v8_a = numpy.ones(v8.shape)\n",
    "    v7_a += -1.0 * v8_a\n",
    "    v5_a += 1.0 * v8_a\n",
    "    v2_a += v6 * v7_a\n",
    "    v6_a += v2 * v7_a\n",
    "    v1_a += v4 * v5_a\n",
    "    v4_a += v1 * v5_a\n",
    "    v0_a += v3 * v4_a\n",
    "    v3_a += v0 * v4_a\n",
    "    return (v8, v0_a, v1_a, v2_a)"
   ]
  },
  {
   "cell_type": "code",
   "execution_count": null,
   "metadata": {},
   "outputs": [],
   "source": [
    "# exec(compile(new_test, filename=\"<ast>\", mode=\"exec\"))\n",
    "shape_A = (1,1)\n",
    "shape_x = (1,1)\n",
    "A =  numpy.ones(shape_A)\n",
    "A_a = numpy.zeros(shape_A)\n",
    "x = 2 * numpy.ones(shape_x)\n",
    "x_a = numpy.zeros(shape_x)\n",
    "b = numpy.zeros(shape_x)\n",
    "b_a = numpy.zeros(shape_x)\n",
    "quadratic_ad(A, x, b, A_a, x_a, b_a)"
   ]
  }
 ],
 "metadata": {
  "kernelspec": {
   "display_name": "Python 3",
   "language": "python",
   "name": "python3"
  },
  "language_info": {
   "codemirror_mode": {
    "name": "ipython",
    "version": 3
   },
   "file_extension": ".py",
   "mimetype": "text/x-python",
   "name": "python",
   "nbconvert_exporter": "python",
   "pygments_lexer": "ipython3",
   "version": "3.11.1"
  },
  "orig_nbformat": 4,
  "vscode": {
   "interpreter": {
    "hash": "1111b8f0f694f9fa633593df8f04da17d1071c821a540c35fc94e5a345be1181"
   }
  }
 },
 "nbformat": 4,
 "nbformat_minor": 2
}
