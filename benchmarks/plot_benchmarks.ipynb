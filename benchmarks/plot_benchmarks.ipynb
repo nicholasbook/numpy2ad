{
 "cells": [
  {
   "cell_type": "code",
   "execution_count": null,
   "metadata": {},
   "outputs": [],
   "source": [
    "import matplotlib.pyplot as plt\n",
    "import numpy as np"
   ]
  },
  {
   "attachments": {},
   "cell_type": "markdown",
   "metadata": {},
   "source": [
    "## Matrix Multiply-Add"
   ]
  },
  {
   "cell_type": "code",
   "execution_count": null,
   "metadata": {},
   "outputs": [],
   "source": [
    "plt.figure(figsize=(5, 4))\n",
    "\n",
    "mma = np.loadtxt(\"timeit_mma.txt\") # rows | forward | forward_jit | adjoint | adjoint_jit\n",
    "x = mma[:, 0]\n",
    "\n",
    "plt.loglog(x, mma[:, 1], label=\"forward pass\")\n",
    "plt.loglog(x, mma[:, 2], label=\"transformed (forward & reverse)\")\n",
    "\n",
    "plt.title(\"Matrix Multiply-Add\")\n",
    "plt.xlabel(\"Rows (square matrices)\")\n",
    "plt.ylabel(\"Average execution time [s]\")\n",
    "plt.legend();\n",
    "# plt.savefig(\"benchmark_mma.png\", dpi=300)"
   ]
  },
  {
   "cell_type": "code",
   "execution_count": null,
   "metadata": {},
   "outputs": [],
   "source": [
    "# native code vs. compiled with Numba JIT\n",
    "plt.figure(figsize=(5, 4))\n",
    "\n",
    "plt.loglog(x, mma[:, 1], label=\"forward pass\")\n",
    "plt.loglog(x, mma[:, 2], label=\"transformed (forward & reverse)\")\n",
    "\n",
    "plt.title(\"Matrix Multiply-Add\")\n",
    "plt.xlabel(\"Rows (square matrices)\")\n",
    "plt.ylabel(\"Average execution time [s]\")\n",
    "plt.legend();\n",
    "# plt.savefig(\"benchmark_mma_jit.png\", dpi=300)"
   ]
  },
  {
   "attachments": {},
   "cell_type": "markdown",
   "metadata": {},
   "source": [
    "## Generalized Least Squares"
   ]
  },
  {
   "cell_type": "code",
   "execution_count": null,
   "metadata": {},
   "outputs": [],
   "source": [
    "plt.figure(figsize=(5, 4))\n",
    "\n",
    "gls = np.loadtxt(\"timeit_gls.txt\") # rows | forward | forward_jit | adjoint | adjoint_jit\n",
    "x = gls[:, 0]\n",
    "\n",
    "plt.loglog(x, gls[:, 1], label=\"forward pass\")\n",
    "plt.loglog(x, gls[:, 2], label=\"transformed (forward & reverse)\")\n",
    "\n",
    "plt.title(\"Generalized Least Squares\")\n",
    "plt.xlabel(\"Rows in M (square)\")\n",
    "plt.ylabel(\"Average execution time [s]\")\n",
    "plt.legend();\n",
    "# plt.savefig(\"benchmark_gls.png\", dpi=300)"
   ]
  },
  {
   "cell_type": "code",
   "execution_count": null,
   "metadata": {},
   "outputs": [],
   "source": [
    "# native code vs. compiled with Numba JIT\n",
    "plt.figure(figsize=(5, 4))\n",
    "\n",
    "plt.loglog(x, gls[:, 1], label=\"forward pass\")\n",
    "plt.loglog(x, gls[:, 2], label=\"transformed (forward & reverse)\")\n",
    "\n",
    "plt.title(\"Generalized Least Squares\")\n",
    "plt.xlabel(\"Rows in M (square)\")\n",
    "plt.ylabel(\"Average execution time [s]\")\n",
    "plt.legend();\n",
    "# plt.savefig(\"benchmark_gls_jit.png\", dpi=300)"
   ]
  }
 ],
 "metadata": {
  "kernelspec": {
   "display_name": "numpy2ad",
   "language": "python",
   "name": "python3"
  },
  "language_info": {
   "codemirror_mode": {
    "name": "ipython",
    "version": 3
   },
   "file_extension": ".py",
   "mimetype": "text/x-python",
   "name": "python",
   "nbconvert_exporter": "python",
   "pygments_lexer": "ipython3",
   "version": "3.11.3"
  },
  "orig_nbformat": 4
 },
 "nbformat": 4,
 "nbformat_minor": 2
}
