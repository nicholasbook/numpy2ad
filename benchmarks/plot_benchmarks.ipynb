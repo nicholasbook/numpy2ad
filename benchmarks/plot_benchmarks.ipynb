{
 "cells": [
  {
   "cell_type": "code",
   "execution_count": null,
   "metadata": {},
   "outputs": [],
   "source": [
    "import matplotlib.pyplot as plt\n",
    "import numpy as np"
   ]
  },
  {
   "attachments": {},
   "cell_type": "markdown",
   "metadata": {},
   "source": [
    "## Matrix Multiply-Add"
   ]
  },
  {
   "cell_type": "code",
   "execution_count": null,
   "metadata": {},
   "outputs": [],
   "source": [
    "plt.figure(figsize=(5, 4))\n",
    "\n",
    "mma = np.loadtxt(\"timeit_mma_fwd_rev.txt\")  # rows | forward | adjoint | rel cost\n",
    "x = mma[:, 0]\n",
    "\n",
    "plt.loglog(x, mma[:, 1], label=\"forward pass\")\n",
    "plt.loglog(x, mma[:, 2], label=\"transformed (forward & reverse)\")\n",
    "plt.loglog(x, mma[:, 4], label=\"finite difference\")\n",
    "\n",
    "plt.title(\"Matrix Multiply-Add\")\n",
    "plt.xlabel(\"Rows\")\n",
    "plt.ylabel(\"Execution time [s]\")\n",
    "plt.legend();\n",
    "plt.savefig(\"benchmark_mma.png\", dpi=300)"
   ]
  },
  {
   "cell_type": "code",
   "execution_count": null,
   "metadata": {},
   "outputs": [],
   "source": [
    "# relative cost of adjoint\n",
    "plt.figure(figsize=(5, 4))\n",
    "\n",
    "plt.semilogx(x, mma[:, 3], label=\"$T_{Adjoint} \\,/\\, T_{Forward}$\", marker=\"x\")\n",
    "plt.semilogx(x, mma[:, 5], label=\"$T_{FD} \\,/\\, T_{Forward}$\", marker=\"x\")\n",
    "\n",
    "plt.title(\"Matrix Multiply-Add\\nRelative Cost\")\n",
    "plt.xlabel(\"Rows\")\n",
    "plt.ylabel(\"Execution time [s]\")\n",
    "plt.legend();\n",
    "plt.savefig(\"benchmark_mma_rel.png\", dpi=300)"
   ]
  },
  {
   "cell_type": "code",
   "execution_count": null,
   "metadata": {},
   "outputs": [],
   "source": [
    "# Full Jacobian: adjoint vs central finite difference\n",
    "plt.figure(figsize=(5, 4))\n",
    "\n",
    "mma_full = np.loadtxt(\"timeit_mma_full.txt\")  # rows | adjoint | cfd | rel cost\n",
    "x = mma_full[:, 0]\n",
    "\n",
    "plt.loglog(x, mma_full[:, 1], label=\"Adjoint\")\n",
    "plt.loglog(x, mma_full[:, 2], label=\"Finite Difference\")\n",
    "\n",
    "plt.title(\"Matrix Multiply-Add\\nFull Jacobian\")\n",
    "plt.xlabel(\"Rows\")\n",
    "plt.ylabel(\"Execution time [s]\")\n",
    "plt.legend();\n",
    "plt.savefig(\"benchmark_mma_full.png\", dpi=300)"
   ]
  },
  {
   "cell_type": "code",
   "execution_count": null,
   "metadata": {},
   "outputs": [],
   "source": [
    "# Full Jacobian: adjoint vs central finite difference (relative cost)\n",
    "plt.figure(figsize=(5, 4))\n",
    "\n",
    "plt.semilogx(x, mma_full[:, 3], label=\"$T_{FD} \\, / \\, T_{Adjoint}$\")\n",
    "\n",
    "plt.title(\"Matrix Multiply-Add\\nFull Jacobian\")\n",
    "plt.xlabel(\"Rows\")\n",
    "plt.ylabel(\"Relative Cost\")\n",
    "plt.legend();\n",
    "plt.savefig(\"benchmark_mma_full_rel.png\")"
   ]
  },
  {
   "attachments": {},
   "cell_type": "markdown",
   "metadata": {},
   "source": [
    "## Generalized Least Squares"
   ]
  },
  {
   "cell_type": "code",
   "execution_count": null,
   "metadata": {},
   "outputs": [],
   "source": [
    "plt.figure(figsize=(5, 4))\n",
    "\n",
    "gls = np.loadtxt(\n",
    "    \"timeit_gls_fwd_rev.txt\"\n",
    ")  # rows | forward | adjoint | rel cost adjoint\n",
    "x = gls[:, 0]\n",
    "\n",
    "plt.loglog(x, gls[:, 1], label=\"forward pass\")\n",
    "plt.loglog(x, gls[:, 2], label=\"transformed (forward & reverse)\")\n",
    "plt.loglog(x, gls[:, 4], label=\"finite difference\")\n",
    "\n",
    "plt.title(\"Generalized Least Squares\")\n",
    "plt.xlabel(\"Rows in M\")\n",
    "plt.ylabel(\"Execution time [s]\")\n",
    "plt.legend();\n",
    "# plt.savefig(\"benchmark_gls.png\", dpi=300)"
   ]
  },
  {
   "cell_type": "code",
   "execution_count": null,
   "metadata": {},
   "outputs": [],
   "source": [
    "# relative cost of adjoint\n",
    "plt.figure(figsize=(5, 4))\n",
    "\n",
    "plt.semilogx(x, gls[:, 3], \".-\", label=\"$T_{Adjoint} \\,/\\, T_{Forward}$\")\n",
    "plt.semilogx(x, gls[:, 5], \".-\", label=\"$T_{FD} \\,/\\, T_{Forward}$\")\n",
    "\n",
    "plt.title(\"Generalized Least Squares\")\n",
    "plt.xlabel(\"Rows in M\")\n",
    "plt.ylabel(\"Relative Cost\")\n",
    "plt.legend();"
   ]
  },
  {
   "cell_type": "code",
   "execution_count": null,
   "metadata": {},
   "outputs": [],
   "source": [
    "# Full Jacobian: adjoint vs central finite difference\n",
    "plt.figure(figsize=(5, 4))\n",
    "gls = np.loadtxt(\"timeit_gls_full.txt\")  # rows | forward | adjoint | rel cost adjoint\n",
    "x = gls[:, 0]\n",
    "\n",
    "plt.loglog(x, gls[:, 1], label=\"Adjoint\")\n",
    "plt.loglog(x, gls[:, 2], label=\"Finite Difference\")\n",
    "\n",
    "plt.title(\"Generalized Least Squares\\nFull Jacobian\")\n",
    "plt.xlabel(\"Rows in M\")\n",
    "plt.ylabel(\"Execution time [s]\")\n",
    "plt.legend();"
   ]
  },
  {
   "cell_type": "code",
   "execution_count": null,
   "metadata": {},
   "outputs": [],
   "source": [
    "# Full Jacobian: adjoint vs central finite difference (relative cost)\n",
    "plt.figure(figsize=(5, 4))\n",
    "\n",
    "plt.semilogx(x, gls[:, 3], \".-\", label=\"$T_{FD} \\, / \\, T_{Adjoint}$\")\n",
    "\n",
    "plt.title(\"Generalized Least Squares\\nFull Jacobian\")\n",
    "plt.xlabel(\"Rows in M\")\n",
    "plt.ylabel(\"Relative Cost\")\n",
    "plt.legend();"
   ]
  }
 ],
 "metadata": {
  "kernelspec": {
   "display_name": "numpy2ad",
   "language": "python",
   "name": "python3"
  },
  "language_info": {
   "codemirror_mode": {
    "name": "ipython",
    "version": 3
   },
   "file_extension": ".py",
   "mimetype": "text/x-python",
   "name": "python",
   "nbconvert_exporter": "python",
   "pygments_lexer": "ipython3",
   "version": "3.11.4"
  },
  "orig_nbformat": 4
 },
 "nbformat": 4,
 "nbformat_minor": 2
}
