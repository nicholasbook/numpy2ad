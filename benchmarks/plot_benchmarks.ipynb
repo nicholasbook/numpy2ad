{
 "cells": [
  {
   "cell_type": "code",
   "execution_count": null,
   "metadata": {},
   "outputs": [],
   "source": [
    "import matplotlib.pyplot as plt\n",
    "import numpy as np"
   ]
  },
  {
   "attachments": {},
   "cell_type": "markdown",
   "metadata": {},
   "source": [
    "## GLS"
   ]
  },
  {
   "cell_type": "code",
   "execution_count": null,
   "metadata": {},
   "outputs": [],
   "source": [
    "plt.figure(figsize=(4, 3), dpi=300)\n",
    "\n",
    "gls = np.loadtxt(\n",
    "    \"results/gls_8192_100s.txt\"\n",
    ")  # rows | forward | adjoint | rel cost adjoint\n",
    "x = gls[:, 0]\n",
    "\n",
    "plt.loglog(x, gls[:, 1], \".-\", label=\"GLS\") # blue\n",
    "plt.loglog(x, gls[:, 4], \".-\", label=\"FD\") # green\n",
    "plt.loglog(x, gls[:, 2], \".-\", label=\"AD\") # orange\n",
    "\n",
    "plt.xlabel(\"Rows $N$\")\n",
    "plt.ylabel(\"Average time [s]\")\n",
    "plt.legend()\n",
    "plt.tight_layout()\n",
    "# plt.savefig(\"results/bm_gls_abs.png\", dpi=300);"
   ]
  },
  {
   "cell_type": "code",
   "execution_count": null,
   "metadata": {},
   "outputs": [],
   "source": [
    "# relative cost of adjoint\n",
    "plt.figure(figsize=(4, 3), dpi=300)\n",
    "\n",
    "plt.semilogx(x, gls[:, 5], \".-\", label=\"$T_{FD} \\,/\\, T_{GLS}$\", color=\"C1\")\n",
    "plt.semilogx(x, gls[:, 3], \".-\", label=\"$T_{AD} \\,/\\, T_{GLS}$\", color=\"C2\")\n",
    "plt.semilogx(x, gls[:, 3] / gls[:, 5], \".-\", label=\"$T_{AD} \\,/\\, T_{FD}$\", color=\"C3\")\n",
    "\n",
    "plt.xlabel(\"Rows $N$\")\n",
    "plt.ylabel(\"Relative Cost\")\n",
    "plt.legend(loc=\"best\", bbox_to_anchor=(1.0, 0.6))\n",
    "plt.tight_layout()\n",
    "# plt.savefig(\"results/bm_gls_rel.png\", dpi=300)"
   ]
  },
  {
   "cell_type": "code",
   "execution_count": null,
   "metadata": {},
   "outputs": [],
   "source": [
    "# Full Jacobian: adjoint vs central finite difference\n",
    "plt.figure(figsize=(5, 4))\n",
    "gls_full = np.loadtxt(\"results/gls_jacobian.txt\")  # rows | forward | adjoint | rel cost adjoint\n",
    "x_full = gls_full[:, 0]\n",
    "\n",
    "plt.loglog(x_full, gls_full[:, 1], label=\"AD\")\n",
    "plt.loglog(x_full, gls_full[:, 2], label=\"FD\")\n",
    "\n",
    "plt.xlabel(\"Rows $N$\")\n",
    "plt.ylabel(\"Average time [s]\")\n",
    "plt.legend();"
   ]
  },
  {
   "cell_type": "code",
   "execution_count": null,
   "metadata": {},
   "outputs": [],
   "source": [
    "# Full Jacobian: adjoint vs central finite difference (relative cost)\n",
    "plt.figure(figsize=(4, 3), dpi=300)\n",
    "\n",
    "plt.semilogx(x_full, gls_full[:, 3], \".-\", label=\"$T_{FD} \\, / \\, T_{AD}$\")\n",
    "\n",
    "plt.xlabel(\"Rows $N$\")\n",
    "plt.ylabel(\"Relative Cost\")\n",
    "plt.tight_layout()\n",
    "plt.legend();\n",
    "# plt.savefig(\"results/bm_gls_full.png\", dpi=300)"
   ]
  },
  {
   "cell_type": "markdown",
   "metadata": {},
   "source": [
    "# GLS with Cholesky"
   ]
  },
  {
   "cell_type": "code",
   "execution_count": null,
   "metadata": {},
   "outputs": [],
   "source": [
    "plt.figure(figsize=(4, 3), dpi=300)\n",
    "\n",
    "results_cholesky = np.loadtxt(\"results/timeit_gls_cholesky.txt\") # rows, gls, gls_cholesky\n",
    "N = results_cholesky[:, 0]\n",
    "plt.loglog(N, results_cholesky[:, 1], \".-\", label=\"naive GLS\")\n",
    "plt.loglog(N, results_cholesky[:, 2], \".-\", label=\"Cholesky GLS\")\n",
    "plt.xlabel(\"Rows $N$\")\n",
    "plt.ylabel(\"Average time [s]\")\n",
    "plt.legend()\n",
    "plt.tight_layout()"
   ]
  },
  {
   "cell_type": "code",
   "execution_count": null,
   "metadata": {},
   "outputs": [],
   "source": [
    "plt.figure(figsize=(4, 3), dpi=300)\n",
    "\n",
    "results_cholesky = np.loadtxt(\"results/timeit_gls_cholesky.txt\") # rows, gls, gls_cholesky\n",
    "N = results_cholesky[:, 0]\n",
    "plt.semilogx(N, results_cholesky[:, 1] / results_cholesky[:, 2], \".-\",label=\"$T_{GLS} \\, / \\, T_{GLS Cholesky}$\")\n",
    "plt.xlabel(\"Rows $N$\")\n",
    "plt.ylabel(\"Relative Cost\")\n",
    "plt.legend()\n",
    "plt.tight_layout()"
   ]
  }
 ],
 "metadata": {
  "kernelspec": {
   "display_name": "numpy2ad",
   "language": "python",
   "name": "python3"
  },
  "language_info": {
   "codemirror_mode": {
    "name": "ipython",
    "version": 3
   },
   "file_extension": ".py",
   "mimetype": "text/x-python",
   "name": "python",
   "nbconvert_exporter": "python",
   "pygments_lexer": "ipython3",
   "version": "3.11.5"
  },
  "orig_nbformat": 4
 },
 "nbformat": 4,
 "nbformat_minor": 2
}
