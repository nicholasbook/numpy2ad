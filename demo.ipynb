{
 "cells": [
  {
   "attachments": {},
   "cell_type": "markdown",
   "metadata": {},
   "source": [
    "# Source-to-source translation\n",
    "**Generating adjoint code for Numpy expressions with 'ad_transformer'**."
   ]
  },
  {
   "cell_type": "code",
   "execution_count": null,
   "metadata": {},
   "outputs": [],
   "source": [
    "import ast\n",
    "import inspect\n",
    "import numpy\n",
    "from ad_transformer import transform\n",
    "from draw_ast import draw_AST"
   ]
  },
  {
   "attachments": {},
   "cell_type": "markdown",
   "metadata": {},
   "source": [
    "## 1st Example: A*B+C"
   ]
  },
  {
   "cell_type": "code",
   "execution_count": null,
   "metadata": {},
   "outputs": [],
   "source": [
    "# First test function\n",
    "def simple_expr(A: numpy.ndarray, B: numpy.ndarray, C: numpy.ndarray) -> numpy.ndarray:\n",
    "    return A @ B + C"
   ]
  },
  {
   "cell_type": "code",
   "execution_count": null,
   "metadata": {},
   "outputs": [],
   "source": [
    "# visualize abstract syntax tree using ast.parse and ast.NodeVisitor\n",
    "draw_AST(simple_expr)"
   ]
  },
  {
   "cell_type": "code",
   "execution_count": null,
   "metadata": {},
   "outputs": [],
   "source": [
    "# Transform the function code\n",
    "simple_expr_transformed = transform(simple_expr)\n",
    "print(simple_expr_transformed)"
   ]
  },
  {
   "attachments": {},
   "cell_type": "markdown",
   "metadata": {},
   "source": [
    "### Explanation:\n",
    "- The function name is extended with \"_ad\" and adjoints (context) of function arguments are included (\"A_a\", \"B_a\", ...).\n",
    "- The original function is completely transformed to single-assignment code.\n",
    "- No overwriting/incremental assignments of variables is considered for now. Hence no \"tbr_stack\" etc.\n",
    "- Only functions that return a single (ndarray) variable are considered for now.\n",
    "- Adjoints of all intermediate v_i are zero-initialized.\n",
    "- The adjoint of the return value (\"v4_a\") is seeded to ones.\n",
    "- For derivatives, all v_i are treated as scalars (we are not differentiating matrices by matrices because that would result in tensors)\n",
    "- All arithmetic is element-wise. Only the @ operator maps to matrix products.\n",
    "- The primal result is returned together with all adjoints in a tuple."
   ]
  },
  {
   "attachments": {},
   "cell_type": "markdown",
   "metadata": {},
   "source": [
    "### Test:"
   ]
  },
  {
   "cell_type": "code",
   "execution_count": null,
   "metadata": {},
   "outputs": [],
   "source": [
    "# Compile and execute it to make it visible\n",
    "exec(compile(simple_expr_transformed, filename=\"<ast>\", mode=\"exec\"))\n",
    "\n",
    "# active arguments\n",
    "dims = (2,2)\n",
    "A = 1.5 * numpy.ones(dims)\n",
    "B = 2.0 * numpy.ones(dims)\n",
    "C = 3.0 * numpy.ones(dims)\n",
    "# initialize adjoints\n",
    "A_a = numpy.zeros(dims)\n",
    "B_a = numpy.zeros(dims)\n",
    "C_a = numpy.zeros(dims)\n",
    "\n",
    "# A*B+C\n",
    "result, dfdA, dfdB, dfdC = simple_expr_ad(A, B, C, A_a, B_a, C_a)\n",
    "print(\"primal result:\\n {r}\\n df/dA:\\n {a}\\n df/dB:\\n {b}\\n df/dC:\\n {c}\".format(r=result, a=dfdA, b=dfdB, c=dfdC))"
   ]
  },
  {
   "attachments": {},
   "cell_type": "markdown",
   "metadata": {},
   "source": [
    "## 2nd Example: Element-wise Sigmoid Function \n",
    "### sigmoid(X) = 1 / (1 + exp(-X))"
   ]
  },
  {
   "cell_type": "code",
   "execution_count": null,
   "metadata": {},
   "outputs": [],
   "source": [
    "def sigmoid(A: numpy.ndarray) -> numpy.ndarray:\n",
    "    denominator = numpy.ones(A.shape) + numpy.exp(-A)\n",
    "    return numpy.divide(numpy.ones(A.shape), denominator)"
   ]
  },
  {
   "cell_type": "code",
   "execution_count": null,
   "metadata": {},
   "outputs": [],
   "source": [
    "draw_AST(sigmoid)"
   ]
  },
  {
   "attachments": {},
   "cell_type": "markdown",
   "metadata": {},
   "source": [
    "'transform' already supports derivatives of some numpy functions and more can be added easily. "
   ]
  },
  {
   "cell_type": "code",
   "execution_count": null,
   "metadata": {},
   "outputs": [],
   "source": [
    "sigmoid_transformed = transform(sigmoid)\n",
    "print(sigmoid_transformed)"
   ]
  },
  {
   "attachments": {},
   "cell_type": "markdown",
   "metadata": {},
   "source": [
    "## Test:"
   ]
  },
  {
   "cell_type": "code",
   "execution_count": null,
   "metadata": {},
   "outputs": [],
   "source": [
    "dims = (3,3)\n",
    "X = numpy.zeros(dims)\n",
    "X_a = numpy.zeros(dims)\n",
    "exec(compile(sigmoid_transformed, filename=\"<ast>\", mode=\"exec\"))\n",
    "\n",
    "s_X, s_dX = sigmoid_ad(X, X_a)\n",
    "# Note that d/dx sigmoid(x) = (1-sigmoid(x))*sigmoid(x)\n",
    "print(\"primal result:\\n {s}\\n df/dX:\\n {ds}\".format(s=s_X, ds=s_dX))\n"
   ]
  },
  {
   "cell_type": "code",
   "execution_count": null,
   "metadata": {},
   "outputs": [],
   "source": [
    "# Plot sigmoid and its derivative \n",
    "import matplotlib.pyplot as plt\n",
    "num = 50\n",
    "x_vec = numpy.linspace(-10, 10, num=num)\n",
    "x_plot = numpy.zeros(num)\n",
    "x_a_vec = numpy.zeros(num)\n",
    "x_a_plot = numpy.zeros(num)\n",
    "\n",
    "x_plot, x_a_plot = sigmoid_ad(x_vec, x_a_vec)\n",
    "plt.plot(x_vec, x_plot, label=\"sigmoid(x)\")\n",
    "plt.plot(x_vec, x_a_plot, \"--\", label=\"d/dx sigmoid(x)\")\n",
    "plt.legend();"
   ]
  },
  {
   "attachments": {},
   "cell_type": "markdown",
   "metadata": {},
   "source": [
    "TODO:\n",
    "- make adjoint direction input (entry-wise differentiation)\n",
    "- add rules for transpose and inverse\n",
    "- add validation with finite difference\n",
    "- add GLS example\n",
    "\n",
    "\n",
    "- Example for Ax+b, xAx+bx, (A^TA)^-1 A^Tx"
   ]
  }
 ],
 "metadata": {
  "kernelspec": {
   "display_name": "Python 3",
   "language": "python",
   "name": "python3"
  },
  "language_info": {
   "codemirror_mode": {
    "name": "ipython",
    "version": 3
   },
   "file_extension": ".py",
   "mimetype": "text/x-python",
   "name": "python",
   "nbconvert_exporter": "python",
   "pygments_lexer": "ipython3",
   "version": "3.11.1 (tags/v3.11.1:a7a450f, Dec  6 2022, 19:58:39) [MSC v.1934 64 bit (AMD64)]"
  },
  "orig_nbformat": 4,
  "vscode": {
   "interpreter": {
    "hash": "1111b8f0f694f9fa633593df8f04da17d1071c821a540c35fc94e5a345be1181"
   }
  }
 },
 "nbformat": 4,
 "nbformat_minor": 2
}
