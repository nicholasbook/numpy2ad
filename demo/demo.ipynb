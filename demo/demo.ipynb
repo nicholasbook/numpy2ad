{
 "cells": [
  {
   "attachments": {},
   "cell_type": "markdown",
   "metadata": {},
   "source": [
    "## Numpy2AD\n",
    "### Generating adjoint code for Numpy matrix expressions"
   ]
  },
  {
   "cell_type": "code",
   "execution_count": null,
   "metadata": {},
   "outputs": [],
   "source": [
    "import ast\n",
    "import numpy as np\n",
    "from numpy2ad import draw_AST, transform, transform_expr"
   ]
  },
  {
   "attachments": {},
   "cell_type": "markdown",
   "metadata": {},
   "source": [
    "### 1st Example: D = AB + C (single-expression mode)."
   ]
  },
  {
   "cell_type": "code",
   "execution_count": null,
   "metadata": {},
   "outputs": [],
   "source": [
    "# Dump the raw abstract syntax tree\n",
    "print(ast.dump(ast.parse(\"D = A @ B + C\"), indent=3))"
   ]
  },
  {
   "cell_type": "code",
   "execution_count": null,
   "metadata": {},
   "outputs": [],
   "source": [
    "# Dot graph for AST\n",
    "draw_AST(\"D = A @ B + C\")"
   ]
  },
  {
   "cell_type": "code",
   "execution_count": null,
   "metadata": {
    "slideshow": {
     "slide_type": "slide"
    }
   },
   "outputs": [],
   "source": [
    "print(transform_expr(\"Y = A @ B + C\"))"
   ]
  },
  {
   "attachments": {},
   "cell_type": "markdown",
   "metadata": {},
   "source": [
    "The user is responsible for importing numpy and correctly seeding adjoints."
   ]
  },
  {
   "cell_type": "code",
   "execution_count": null,
   "metadata": {},
   "outputs": [],
   "source": [
    "dims = (3, 3)\n",
    "A = np.ones(dims); A_a = np.zeros(dims) # dYdA\n",
    "B = np.full(dims, 2.0); B_a = np.zeros(dims) # dYdB\n",
    "C = np.full(dims, 3.0); C_a = np.zeros(dims) # dYdC\n",
    "Y_a = np.zeros(dims); Y_a[0, 0] = 1 # adjoint seed\n",
    "\n",
    "# adjoint code\n",
    "v0 = A @ B\n",
    "Y = v0 + C\n",
    "v0_a = np.zeros(v0.shape)\n",
    "C_a += Y_a\n",
    "v0_a += Y_a\n",
    "B_a += A.T @ v0_a\n",
    "A_a += v0_a @ B.T"
   ]
  },
  {
   "cell_type": "code",
   "execution_count": null,
   "metadata": {},
   "outputs": [],
   "source": [
    "print(f\"Y =\\n {Y}\\ndY/dA = \\n {A_a}\\ndY/dB =\\n {B_a}\\ndY/dC =\\n {C_a}\")"
   ]
  },
  {
   "cell_type": "code",
   "execution_count": null,
   "metadata": {},
   "outputs": [],
   "source": [
    "# AST of transformed expression (interesting for higher order derivatives)\n",
    "draw_AST(transform_expr(\"D = A @ B + C\"))"
   ]
  },
  {
   "attachments": {},
   "cell_type": "markdown",
   "metadata": {},
   "source": [
    "### Transforming functions:"
   ]
  },
  {
   "cell_type": "code",
   "execution_count": null,
   "metadata": {},
   "outputs": [],
   "source": [
    "# First test function\n",
    "def simple_expr(A, B, C):\n",
    "    return A @ B + C"
   ]
  },
  {
   "cell_type": "code",
   "execution_count": null,
   "metadata": {},
   "outputs": [],
   "source": [
    "# Transform the function code\n",
    "simple_expr_transformed = transform(simple_expr)\n",
    "print(simple_expr_transformed)"
   ]
  },
  {
   "attachments": {},
   "cell_type": "markdown",
   "metadata": {},
   "source": [
    "### Explanation:\n",
    "- The function name is extended with \"_ad\" and adjoints (context) of function arguments (\"A_a\", \"B_a\", ...) and output (Y_a) are appended.\n",
    "- The original function is completely transformed to single-assignment code.\n",
    "- No overwriting/incremental assignments of variables is considered for now. Hence no \"tbr_stack\" etc.\n",
    "- Only functions that return a single (ndarray) variable are considered for now.\n",
    "- Adjoints of all intermediate v_i are zero-initialized.\n",
    "- All arithmetic is overloaded to element-wise operations. Only the @ operator maps to matrix products.\n",
    "- The primal result is returned together with all adjoints in a tuple."
   ]
  },
  {
   "attachments": {},
   "cell_type": "markdown",
   "metadata": {},
   "source": [
    "### Test:"
   ]
  },
  {
   "cell_type": "code",
   "execution_count": null,
   "metadata": {},
   "outputs": [],
   "source": [
    "import numpy\n",
    "# Compile and execute it to make it visible\n",
    "exec(compile(simple_expr_transformed, filename=\"<ast>\", mode=\"exec\"))\n",
    "\n",
    "# active arguments\n",
    "dims = (3,3)\n",
    "A = 1.5 * np.ones(dims)\n",
    "B = 2.0 * np.ones(dims)\n",
    "C = 3.0 * np.ones(dims)\n",
    "# initialize adjoints\n",
    "A_a = np.zeros(dims)\n",
    "B_a = np.zeros(dims)\n",
    "C_a = np.zeros(dims)\n",
    "Y_a = np.zeros(dims)\n",
    "# seed the adjoint direction\n",
    "Y_a[0][0] = 1\n",
    "\n",
    "result, dfdA, dfdB, dfdC = simple_expr_ad(A, B, C, A_a, B_a, C_a, Y_a)\n",
    "print(\"primal result:\\n {r}\\n dy/dA:\\n {a}\\n dy/dB:\\n {b}\\n dy/dC:\\n {c}\".format(r=result, a=dfdA, b=dfdB, c=dfdC))"
   ]
  },
  {
   "attachments": {},
   "cell_type": "markdown",
   "metadata": {},
   "source": [
    "Each entry in the output matrix directly depends on the entries in C (element-wise addition) and on the corresponding row of A and column of B (dot product)."
   ]
  },
  {
   "attachments": {},
   "cell_type": "markdown",
   "metadata": {},
   "source": [
    "## 2nd Example: Element-wise Sigmoid Function \n",
    "### $\\sigma(X) = \\frac{1}{(1 + exp(-X))}$\n",
    "\n",
    "It's a nice example to show but not the intended use case of this package as all derivatives are scalar..."
   ]
  },
  {
   "cell_type": "code",
   "execution_count": null,
   "metadata": {},
   "outputs": [],
   "source": [
    "def sigmoid(A: numpy.ndarray) -> numpy.ndarray:\n",
    "    denominator = numpy.ones(A.shape) + numpy.exp(-A)\n",
    "    return numpy.divide(numpy.ones(A.shape), denominator)"
   ]
  },
  {
   "cell_type": "code",
   "execution_count": null,
   "metadata": {},
   "outputs": [],
   "source": [
    "draw_AST(sigmoid)"
   ]
  },
  {
   "attachments": {},
   "cell_type": "markdown",
   "metadata": {},
   "source": [
    "'transform' already supports derivatives of some numpy functions and more can be added easily. "
   ]
  },
  {
   "cell_type": "code",
   "execution_count": null,
   "metadata": {},
   "outputs": [],
   "source": [
    "sigmoid_transformed = transform(sigmoid)\n",
    "print(sigmoid_transformed)"
   ]
  },
  {
   "attachments": {},
   "cell_type": "markdown",
   "metadata": {},
   "source": [
    "## Test:"
   ]
  },
  {
   "cell_type": "code",
   "execution_count": null,
   "metadata": {},
   "outputs": [],
   "source": [
    "dims = (3,3)\n",
    "X = np.zeros(dims)\n",
    "X_a = np.zeros(dims)\n",
    "Y_a = np.ones(dims) # we can seed all adjoints at once\n",
    "exec(compile(sigmoid_transformed, filename=\"<ast>\", mode=\"exec\"))\n",
    "\n",
    "s_X, s_dX = sigmoid_ad(X, X_a, Y_a)\n",
    "# Note that d/dx sigmoid(x) = (1-sigmoid(x))*sigmoid(x)\n",
    "print(\"primal result:\\n {s}\\n df/dX:\\n {ds}\".format(s=s_X, ds=s_dX))"
   ]
  },
  {
   "cell_type": "code",
   "execution_count": null,
   "metadata": {},
   "outputs": [],
   "source": [
    "# Plot sigmoid and its derivative \n",
    "import matplotlib.pyplot as plt\n",
    "num = 50\n",
    "x_vec = np.linspace(-10, 10, num=num)\n",
    "x_plot = np.zeros(num)\n",
    "x_a_vec = np.zeros(num)\n",
    "x_a_plot = np.zeros(num)\n",
    "y_a = np.ones(num)\n",
    "\n",
    "x_plot, x_a_plot = sigmoid_ad(x_vec, x_a_vec, y_a)\n",
    "plt.plot(x_vec, x_plot, label=\"$\\sigma(x)$\")\n",
    "plt.plot(x_vec, x_a_plot, \"--\", label=\"$\\partial_x \\,\\sigma(x)$\")\n",
    "plt.legend();"
   ]
  },
  {
   "attachments": {},
   "cell_type": "markdown",
   "metadata": {},
   "source": [
    "## 3rd Example: Generalized Least Squares\n",
    "Goal: estimate regression coefficients $b$ from observations $y$ with design matrix $X$ and error covariance matrix $M$.\n",
    "\n",
    "The derivatives will tells us how e.g. the coefficients depends on the observations (uncertain) or model parameters.\n",
    "\n",
    "Linear Model: $y_i = \\beta_0 + \\beta_1 * x_i$ \n",
    "\n",
    "Error Covariance: $\\sigma_i^2 = 0.1 + \\alpha * x_i$ (heteroscedastic for $\\alpha \\neq 0$)"
   ]
  },
  {
   "cell_type": "code",
   "execution_count": null,
   "metadata": {},
   "outputs": [],
   "source": [
    "N = 100\n",
    "K = 2\n",
    "\n",
    "# Construct the covariance matrix \n",
    "def build_system(alpha):\n",
    "    x = np.linspace(0, 1, N) # x from 0 to 1\n",
    "    var = 0.01 + alpha * x # variance is proportional to x\n",
    "    cov_mat = np.zeros((N, N))\n",
    "    np.fill_diagonal(cov_mat, var) # non-singular, no cross-correlations\n",
    "    samples = (x + np.random.multivariate_normal(mean=np.zeros(N), cov=cov_mat)).reshape((N, 1)) # sample the distribution\n",
    "    return x, samples, cov_mat\n",
    "\n",
    "x, samples, cov_mat = build_system(alpha=0.0)\n",
    "plt.plot(x, samples, \".\") \n",
    "plt.plot(x, x, \"r--\", label=\"y=x\")\n",
    "plt.xlabel(\"$x$\"); plt.ylabel(\"$y(x)$\")\n",
    "plt.legend();"
   ]
  },
  {
   "cell_type": "code",
   "execution_count": null,
   "metadata": {},
   "outputs": [],
   "source": [
    "# Closed form solution\n",
    "gls = \"b = np.linalg.inv(X.T @ np.linalg.inv(M) @ X) @ X.T @ np.linalg.inv(M) @ y\"\n",
    "# print(transform_expr(gls))"
   ]
  },
  {
   "cell_type": "code",
   "execution_count": null,
   "metadata": {},
   "outputs": [],
   "source": [
    "def GLS_ad(X, M, y, X_a, M_a, y_a, b_a):\n",
    "    v0 = X.T\n",
    "    v1 = np.linalg.inv(M)\n",
    "    v2 = v0 @ v1\n",
    "    v3 = v2 @ X\n",
    "    v4 = np.linalg.inv(v3)\n",
    "    v5 = X.T\n",
    "    v6 = v4 @ v5\n",
    "    v7 = np.linalg.inv(M)\n",
    "    v8 = v6 @ v7\n",
    "    b = v8 @ y\n",
    "    v0_a = X_a.T\n",
    "    v1_a = numpy.zeros(v1.shape)\n",
    "    v2_a = numpy.zeros(v2.shape)\n",
    "    v3_a = numpy.zeros(v3.shape)\n",
    "    v4_a = numpy.zeros(v4.shape)\n",
    "    v5_a = X_a.T\n",
    "    v6_a = numpy.zeros(v6.shape)\n",
    "    v7_a = numpy.zeros(v7.shape)\n",
    "    v8_a = numpy.zeros(v8.shape)\n",
    "    y_a += v8.T @ b_a\n",
    "    v8_a += b_a @ y.T\n",
    "    v7_a += v6.T @ v8_a\n",
    "    v6_a += v8_a @ v7.T\n",
    "    M_a -= np.linalg.inv(M).T @ (v7_a @ np.linalg.inv(M).T)\n",
    "    v5_a += v4.T @ v6_a\n",
    "    v4_a += v6_a @ v5.T\n",
    "    v3_a -= np.linalg.inv(v3).T @ (v4_a @ np.linalg.inv(v3).T)\n",
    "    X_a += v2.T @ v3_a\n",
    "    v2_a += v3_a @ X.T\n",
    "    v1_a += v0.T @ v2_a\n",
    "    v0_a += v2_a @ v1.T\n",
    "    M_a -= np.linalg.inv(M).T @ (v1_a @ np.linalg.inv(M).T)\n",
    "    return b, X_a, M_a, y_a\n",
    "\n",
    "# Initialize\n",
    "y = samples\n",
    "y_a = np.zeros(samples.shape)\n",
    "X = np.ones((N, K))\n",
    "X[:, 1] = x\n",
    "# X[:, 2] = x**2\n",
    "X_a = np.zeros(X.shape)\n",
    "M = cov_mat\n",
    "M_a = np.zeros(M.shape)\n",
    "\n",
    "b_a = np.zeros((K, 1))\n",
    "b_a[1] = 1 # differentiate w.r.t slope parameter of regression\n",
    "\n",
    "b, X_a, M_a, y_a = GLS_ad(X, M, y, X_a, M_a, y_a, b_a)\n",
    "print(b) # should be [0, 1]"
   ]
  },
  {
   "cell_type": "code",
   "execution_count": null,
   "metadata": {},
   "outputs": [],
   "source": [
    "plt.figure(figsize=(5,5))\n",
    "plt.plot(y_a, \".\"); # \"How does b change w.r.t. samples y\"\n",
    "plt.xlabel(\"$i$\"); plt.ylabel(r\"$\\nabla_y \\, b_1(i)$\")\n",
    "plt.title(\"Gradient magnitude: \" + f\"{np.linalg.norm(y_a): .3f}\");\n",
    "# plt.savefig(\"b_a_const.png\", dpi=300)"
   ]
  },
  {
   "cell_type": "code",
   "execution_count": null,
   "metadata": {},
   "outputs": [],
   "source": [
    "plt.figure(figsize=(5,5))\n",
    "plt.plot(x, samples)\n",
    "plt.plot(x, b[0] + b[1] * x, \"r\", label=f\"$y={float(b[0]): .3f} + {float(b[1]): .3f}x$\")\n",
    "plt.xlabel(\"$x$\")\n",
    "plt.ylabel(\"$y$\")\n",
    "plt.legend();\n",
    "# plt.savefig(\"const_fit.png\", dpi=300)"
   ]
  },
  {
   "attachments": {},
   "cell_type": "markdown",
   "metadata": {},
   "source": [
    "### Make the variance non-const"
   ]
  },
  {
   "cell_type": "code",
   "execution_count": null,
   "metadata": {},
   "outputs": [],
   "source": [
    "x, samples, cov_mat = build_system(alpha=0.1)\n",
    "plt.plot(x, samples, \".\") \n",
    "plt.xlabel(\"$x$\"); plt.ylabel(\"$y(x)$\");"
   ]
  },
  {
   "cell_type": "code",
   "execution_count": null,
   "metadata": {},
   "outputs": [],
   "source": [
    "# Initialize\n",
    "y = samples\n",
    "y_a = np.zeros(samples.shape)\n",
    "X = np.ones((N, K))\n",
    "X[:, 1] = x\n",
    "# X[:, 2] = x**2\n",
    "X_a = np.zeros(X.shape)\n",
    "M = cov_mat\n",
    "M_a = np.zeros(M.shape)\n",
    "\n",
    "b_a = np.zeros((K, 1))\n",
    "b_a[1] = 1 # differentiate w.r.t slope parameter of regression\n",
    "\n",
    "b, X_a, M_a, y_a = GLS_ad(X, M, y, X_a, M_a, y_a, b_a)\n",
    "print(b) # should be [0, 1]"
   ]
  },
  {
   "cell_type": "code",
   "execution_count": null,
   "metadata": {},
   "outputs": [],
   "source": [
    "plt.figure(figsize=(5,5))\n",
    "plt.plot(y_a); # \"How does b change w.r.t. samples y\"\n",
    "plt.xlabel(\"$i$\"); plt.ylabel(r\"$\\nabla_y \\, b_1(i)$\")\n",
    "plt.title(\"Gradient magnitude: \" + f\"{np.linalg.norm(y_a): .3f}\");\n",
    "# plt.savefig(\"b_a_var.png\", dpi=300)"
   ]
  },
  {
   "cell_type": "code",
   "execution_count": null,
   "metadata": {},
   "outputs": [],
   "source": [
    "plt.figure(figsize=(5,5))\n",
    "plt.plot(x, samples)\n",
    "plt.plot(x, b[0] + b[1] * x, \"r\", label=f\"$y={float(b[0]): .3f} + {float(b[1]): .3f}x$\")\n",
    "plt.xlabel(\"$x$\")\n",
    "plt.ylabel(\"$y$\")\n",
    "plt.legend();\n",
    "# plt.savefig(\"var_fit.png\", dpi=300)"
   ]
  },
  {
   "cell_type": "code",
   "execution_count": null,
   "metadata": {},
   "outputs": [],
   "source": [
    "# db_1 / dX\n",
    "# plt.plot(X_a[:, 0])\n",
    "plt.plot(X_a[:, 1]);"
   ]
  },
  {
   "cell_type": "code",
   "execution_count": null,
   "metadata": {},
   "outputs": [],
   "source": [
    "# db_1 / dM_ii\n",
    "plt.plot(M_a.diagonal());"
   ]
  },
  {
   "cell_type": "code",
   "execution_count": null,
   "metadata": {},
   "outputs": [],
   "source": []
  }
 ],
 "metadata": {
  "kernelspec": {
   "display_name": "env",
   "language": "python",
   "name": "python3"
  },
  "language_info": {
   "codemirror_mode": {
    "name": "ipython",
    "version": 3
   },
   "file_extension": ".py",
   "mimetype": "text/x-python",
   "name": "python",
   "nbconvert_exporter": "python",
   "pygments_lexer": "ipython3",
   "version": "3.11.1"
  },
  "orig_nbformat": 4,
  "vscode": {
   "interpreter": {
    "hash": "18e6e4eb0a4d7cb24cb51759c4dfed13436bbee075f5c6c6284d16f19e522559"
   }
  }
 },
 "nbformat": 4,
 "nbformat_minor": 2
}
