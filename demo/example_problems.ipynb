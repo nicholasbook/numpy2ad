{
 "cells": [
  {
   "attachments": {},
   "cell_type": "markdown",
   "metadata": {},
   "source": [
    "# A Collection of Matrix Models \n",
    "Adapted from Barthels et al. (2019) [\"Linnea: Automatic Generation of Efficient Linear Algebra Programs\"](https://arxiv.org/abs/1912.12924).\n",
    "\n",
    "See `../tests/test_invariant.py` for numerical correctness tests of the generated adjoint code for all of the following matrix models."
   ]
  },
  {
   "cell_type": "code",
   "execution_count": null,
   "metadata": {},
   "outputs": [],
   "source": [
    "import numpy as np\n",
    "from numpy2ad import transform"
   ]
  },
  {
   "cell_type": "code",
   "execution_count": null,
   "metadata": {},
   "outputs": [],
   "source": [
    "# Matrix Multiply-Add\n",
    "def MMA(A, B, C):\n",
    "    return A @ B + C\n",
    "\n",
    "print(transform(MMA))"
   ]
  },
  {
   "cell_type": "code",
   "execution_count": null,
   "metadata": {},
   "outputs": [],
   "source": [
    "# Matrix Inverse\n",
    "def inverse(A):\n",
    "    return np.linalg.inv(A)\n",
    "\n",
    "print(transform(inverse))"
   ]
  },
  {
   "cell_type": "code",
   "execution_count": null,
   "metadata": {},
   "outputs": [],
   "source": [
    "# Generalized Least Squares\n",
    "def GLS(X, M, y):\n",
    "    M_inv = np.linalg.inv(M)\n",
    "    return np.linalg.inv(X.T @ M_inv @ X) @ X.T @ M_inv @ y\n",
    "\n",
    "print(transform(GLS))"
   ]
  },
  {
   "cell_type": "code",
   "execution_count": null,
   "metadata": {},
   "outputs": [],
   "source": [
    "# Optimization [Straszak and Vishnoi 2015]\n",
    "def Opt_x_f(W, A, b, x):\n",
    "    return W @ A.T @ np.linalg.inv(A @ W @ A.T) @ (b - A @ x)\n",
    "\n",
    "print(transform(Opt_x_f))"
   ]
  },
  {
   "cell_type": "code",
   "execution_count": null,
   "metadata": {},
   "outputs": [],
   "source": [
    "def Opt_x_o(W, A, x, c):\n",
    "    return W @ (A.T @ np.linalg.inv(A @ W @ A.T) @ A @ x - c)\n",
    "\n",
    "print(transform(Opt_x_o))"
   ]
  },
  {
   "cell_type": "code",
   "execution_count": null,
   "metadata": {},
   "outputs": [],
   "source": [
    "# Signal Processing [Ding and Selesnick 2016]\n",
    "def SP_x(A, B, R, L, y):\n",
    "    A_inv = np.linalg.inv(A)\n",
    "    return np.linalg.inv(A_inv.T @ B.T @ B @ A_inv + R.T @ L @ R) @ A_inv.T @ B.T @ B @ A_inv @ y\n",
    "\n",
    "print(transform(SP_x))"
   ]
  },
  {
   "cell_type": "code",
   "execution_count": null,
   "metadata": {},
   "outputs": [],
   "source": [
    "# Ensemble Kalman Filter [Niño et al. 2016]\n",
    "def EKF_X_a(X_b, B, H, R, Y):\n",
    "    return X_b + np.linalg.inv(np.linalg.inv(B) + H.T @ np.linalg.inv(R) @ H) @ (Y - H @ X_b)\n",
    "\n",
    "print(transform(EKF_X_a))"
   ]
  },
  {
   "cell_type": "code",
   "execution_count": null,
   "metadata": {},
   "outputs": [],
   "source": [
    "# Image Restoration [Tirer and Giryes 2017]\n",
    "# Note that we do not explicitly differentiate by the regularization parameters (lambda and sigma) here.\n",
    "def IR_x_k(H, y, v, u, scale_mat, scale_vec):\n",
    "    return np.linalg.inv(H.T @ H + scale_mat) @ (H.T @ y + scale_vec * (v - u))\n",
    "\n",
    "print(transform(IR_x_k))"
   ]
  },
  {
   "cell_type": "code",
   "execution_count": null,
   "metadata": {},
   "outputs": [],
   "source": [
    "# Randomized Matrix Inversion [Gower and Richtárik 2017]\n",
    "def RMI_L(S, A, W):\n",
    "    return S @ np.linalg.inv(S.T @ A.T @ W @ A @ S) @ S.T\n",
    "\n",
    "print(transform(RMI_L))"
   ]
  },
  {
   "cell_type": "code",
   "execution_count": null,
   "metadata": {},
   "outputs": [],
   "source": [
    "def RMI_X_k(X_k, I_n, A, L, W):\n",
    "    return X_k + (I_n - X_k @ A.T) @ L @ A.T @ W\n",
    "\n",
    "print(transform(RMI_X_k))"
   ]
  },
  {
   "cell_type": "code",
   "execution_count": null,
   "metadata": {},
   "outputs": [],
   "source": [
    "def RMI_combined(S, A, I_n, X_k):\n",
    "    SAS_inv = S @ np.linalg.inv(S.T @ A @ S) @ S.T\n",
    "    return SAS_inv + (I_n - SAS_inv @ A) @ X_k @ (I_n - A @ SAS_inv)\n",
    "\n",
    "print(transform(RMI_combined))"
   ]
  },
  {
   "cell_type": "code",
   "execution_count": null,
   "metadata": {},
   "outputs": [],
   "source": [
    "# Stochastic Newton [Chung et al. 2017]\n",
    "# we omit the terms related to `k`\n",
    "def SN_B_k(B_k, I_n, A, W_k, I_l):\n",
    "    inverse = np.linalg.inv(I_l + W_k.T @ A @ B_k @ A.T @ W_k)\n",
    "    return B_k @ (I_n - A.T @ W_k @ inverse @ W_k.T @ A @ B_k)\n",
    "\n",
    "print(transform(SN_B_k))"
   ]
  },
  {
   "cell_type": "code",
   "execution_count": null,
   "metadata": {},
   "outputs": [],
   "source": [
    "# Tikhonov regularization [Golub et al. 2006]\n",
    "def TR_x(A, T, b):\n",
    "    return np.linalg.inv(A.T @ A + T.T @ T) @ A.T @ b\n",
    "\n",
    "print(transform(TR_x))"
   ]
  },
  {
   "cell_type": "code",
   "execution_count": null,
   "metadata": {},
   "outputs": [],
   "source": [
    "# Generalized Tikhonov regularization\n",
    "def GTR_x(A, P, Q, b, x_0):\n",
    "    return np.linalg.inv(A.T @ P @ A + Q) @ (A.T @ P @ b + Q @ x_0)\n",
    "\n",
    "print(transform(GTR_x))"
   ]
  },
  {
   "cell_type": "code",
   "execution_count": null,
   "metadata": {},
   "outputs": [],
   "source": [
    "# LMMSE estimator [Kabal 2011]\n",
    "def LLMSE(C_X, A, C_Z, y, x):\n",
    "    return C_X @ A.T @ np.linalg.inv(A @ C_X @ A.T + C_Z) @ (y - A @ x) + x\n",
    "\n",
    "print(transform(LLMSE))"
   ]
  },
  {
   "cell_type": "code",
   "execution_count": null,
   "metadata": {},
   "outputs": [],
   "source": [
    "# Kalman Filter [Kalman 1960]\n",
    "def KF_K_k(P, H, R):\n",
    "    return P @ H.T @ np.linalg.inv(H @ P @ H.T + R)\n",
    "\n",
    "print(transform(KF_K_k))"
   ]
  },
  {
   "cell_type": "code",
   "execution_count": null,
   "metadata": {},
   "outputs": [],
   "source": [
    "def KF_P_k(I, K, H, P):\n",
    "    return (I - K @ H) @ P\n",
    "\n",
    "print(transform(KF_P_k))"
   ]
  },
  {
   "cell_type": "code",
   "execution_count": null,
   "metadata": {},
   "outputs": [],
   "source": [
    "def KF_x_k(x, K, z, H):\n",
    "    return x + K @ (z - H @ x)\n",
    "\n",
    "print(transform(KF_x_k))"
   ]
  }
 ],
 "metadata": {
  "kernelspec": {
   "display_name": "numpy2ad",
   "language": "python",
   "name": "python3"
  },
  "language_info": {
   "codemirror_mode": {
    "name": "ipython",
    "version": 3
   },
   "file_extension": ".py",
   "mimetype": "text/x-python",
   "name": "python",
   "nbconvert_exporter": "python",
   "pygments_lexer": "ipython3",
   "version": "3.11.5"
  },
  "orig_nbformat": 4
 },
 "nbformat": 4,
 "nbformat_minor": 2
}
