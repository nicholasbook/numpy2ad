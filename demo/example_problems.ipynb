{
 "cells": [
  {
   "attachments": {},
   "cell_type": "markdown",
   "metadata": {},
   "source": [
    "## A collection of matrix problems \n",
    "Taken from Barthels et al. (2019) \"Linnea: Automatic Generation of Efficient Linear Algebra Programs\""
   ]
  },
  {
   "cell_type": "code",
   "execution_count": null,
   "metadata": {},
   "outputs": [],
   "source": [
    "import numpy as np\n",
    "from numpy2ad import transform"
   ]
  },
  {
   "cell_type": "code",
   "execution_count": null,
   "metadata": {},
   "outputs": [],
   "source": [
    "# Matrix Inverse\n",
    "def inverse(A):\n",
    "    return np.linalg.inv(A)\n",
    "\n",
    "print(transform(inverse))"
   ]
  },
  {
   "cell_type": "code",
   "execution_count": null,
   "metadata": {},
   "outputs": [],
   "source": [
    "# Generalized Least Squares\n",
    "def GLS(X, M, y):\n",
    "    M_inv = np.linalg.inv(M)\n",
    "    return np.linalg.inv(X.T @ M_inv @ X) @ X.T @ M_inv @ y\n",
    "\n",
    "print(transform(GLS))"
   ]
  }
 ],
 "metadata": {
  "kernelspec": {
   "display_name": "numpy2ad",
   "language": "python",
   "name": "python3"
  },
  "language_info": {
   "codemirror_mode": {
    "name": "ipython",
    "version": 3
   },
   "file_extension": ".py",
   "mimetype": "text/x-python",
   "name": "python",
   "nbconvert_exporter": "python",
   "pygments_lexer": "ipython3",
   "version": "3.11.3"
  },
  "orig_nbformat": 4
 },
 "nbformat": 4,
 "nbformat_minor": 2
}
