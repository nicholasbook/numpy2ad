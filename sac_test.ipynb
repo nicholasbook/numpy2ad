{
 "cells": [
  {
   "cell_type": "markdown",
   "metadata": {},
   "source": [
    "## Transforming the AST to generate adjoint code"
   ]
  },
  {
   "cell_type": "code",
   "execution_count": null,
   "metadata": {},
   "outputs": [],
   "source": [
    "import ast\n",
    "import inspect\n",
    "import sac_transformer\n",
    "from draw_ast import *\n",
    "import simple_expressions\n",
    "import importlib\n",
    "\n",
    "importlib.reload(sac_transformer)\n",
    "importlib.reload(simple_expressions)\n",
    "from sac_transformer import *\n",
    "from simple_expressions import *\n"
   ]
  },
  {
   "cell_type": "code",
   "execution_count": null,
   "metadata": {},
   "outputs": [],
   "source": [
    "# original AST\n",
    "print(ast.dump(ast.parse(inspect.getsource(simple_exp_adjoint)), indent=3))"
   ]
  },
  {
   "cell_type": "code",
   "execution_count": null,
   "metadata": {},
   "outputs": [],
   "source": [
    "# SAC transformation\n",
    "transformer = SACGraphTransformer()\n",
    "tree = ast.parse(inspect.getsource(LLS))\n",
    "newAST = transformer.visit(tree) "
   ]
  },
  {
   "cell_type": "code",
   "execution_count": null,
   "metadata": {},
   "outputs": [],
   "source": [
    "# new AST\n",
    "#print(ast.dump(newAST, indent=4))"
   ]
  },
  {
   "cell_type": "code",
   "execution_count": null,
   "metadata": {},
   "outputs": [],
   "source": [
    "# unparse -> code generation\n",
    "ast.fix_missing_locations(newAST)\n",
    "print(ast.unparse(newAST))"
   ]
  },
  {
   "cell_type": "code",
   "execution_count": null,
   "metadata": {},
   "outputs": [],
   "source": [
    "transformer = SACGraphTransformer()\n",
    "tree = ast.parse(inspect.getsource(simple_exp_dot))\n",
    "newAST = transformer.visit(tree) \n",
    "print(ast.dump(newAST, indent=4))"
   ]
  },
  {
   "cell_type": "code",
   "execution_count": null,
   "metadata": {},
   "outputs": [],
   "source": [
    "ast.fix_missing_locations(newAST)\n",
    "print(ast.unparse(newAST))"
   ]
  }
 ],
 "metadata": {
  "kernelspec": {
   "display_name": "Python 3.10.2 64-bit",
   "language": "python",
   "name": "python3"
  },
  "language_info": {
   "codemirror_mode": {
    "name": "ipython",
    "version": 3
   },
   "file_extension": ".py",
   "mimetype": "text/x-python",
   "name": "python",
   "nbconvert_exporter": "python",
   "pygments_lexer": "ipython3",
   "version": "3.10.2"
  },
  "orig_nbformat": 4,
  "vscode": {
   "interpreter": {
    "hash": "43f221103f953d3e0d93840edd77be981e5a5e0e42edc048e3de5278c46a3390"
   }
  }
 },
 "nbformat": 4,
 "nbformat_minor": 2
}
